{
 "cells": [
  {
   "cell_type": "markdown",
   "metadata": {},
   "source": [
    "# 4)Given an integer x, return true if x is a palindrome, and false otherwise.\n"
   ]
  },
  {
   "cell_type": "code",
   "execution_count": 2,
   "metadata": {},
   "outputs": [
    {
     "name": "stdout",
     "output_type": "stream",
     "text": [
      "True\n",
      "False\n",
      "False\n"
     ]
    }
   ],
   "source": [
    "def isPalindrome(x: int) -> bool:\n",
    "    # Base condition\n",
    "    if x < 0:\n",
    "        return False\n",
    "    # Store the number in a variable\n",
    "    number = x\n",
    "    # This will store the reverse of the number\n",
    "    reverse = 0\n",
    "    while number:\n",
    "        reverse = reverse * 10 + number % 10\n",
    "        number //= 10\n",
    "    return x == reverse\n",
    "\n",
    "\n",
    "if __name__ == '__main__':\n",
    "    print(isPalindrome(121))\n",
    "    print(isPalindrome(-121))\n",
    "    print(isPalindrome(10))\n"
   ]
  },
  {
   "cell_type": "code",
   "execution_count": null,
   "metadata": {},
   "outputs": [],
   "source": []
  },
  {
   "cell_type": "code",
   "execution_count": null,
   "metadata": {},
   "outputs": [],
   "source": []
  }
 ],
 "metadata": {
  "kernelspec": {
   "display_name": "Python 3",
   "language": "python",
   "name": "python3"
  },
  "language_info": {
   "codemirror_mode": {
    "name": "ipython",
    "version": 3
   },
   "file_extension": ".py",
   "mimetype": "text/x-python",
   "name": "python",
   "nbconvert_exporter": "python",
   "pygments_lexer": "ipython3",
   "version": "3.8.3"
  }
 },
 "nbformat": 4,
 "nbformat_minor": 4
}
